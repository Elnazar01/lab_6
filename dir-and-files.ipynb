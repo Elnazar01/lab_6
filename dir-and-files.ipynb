{
 "cells": [
  {
   "cell_type": "markdown",
   "id": "5b864230-5217-4b6f-9c59-e71b927584c6",
   "metadata": {},
   "source": [
    "1.Список каталогов, файлов и всего содержимого директории"
   ]
  },
  {
   "cell_type": "code",
   "execution_count": 12,
   "id": "58ce7684-95ab-4c9a-ae28-a29a0029096c",
   "metadata": {},
   "outputs": [
    {
     "name": "stdout",
     "output_type": "stream",
     "text": [
      "['.DS_Store', '.ipynb_checkpoints', '2.lab', '3.lab', '1.lab', '4.lab', '5.lab', '6.lab']\n"
     ]
    }
   ],
   "source": [
    "import os\n",
    "path=\"/Users/elnazar/Documents/PP2/python\"\n",
    "all_items = os.listdir(path)\n",
    "print(all_items)"
   ]
  },
  {
   "cell_type": "markdown",
   "id": "b5c17d56-ecc0-494c-9a33-77776d52a3eb",
   "metadata": {},
   "source": [
    "2.Проверка доступа к пути"
   ]
  },
  {
   "cell_type": "code",
   "execution_count": 15,
   "id": "012823f8-1e60-4dcb-90ee-15570026ab8f",
   "metadata": {},
   "outputs": [
    {
     "name": "stdout",
     "output_type": "stream",
     "text": [
      "only dir= .ipynb_checkpoints\n",
      "only dir= 2.lab\n",
      "only dir= 3.lab\n",
      "only dir= 1.lab\n",
      "only dir= 4.lab\n",
      "only dir= 5.lab\n",
      "only dir= 6.lab\n"
     ]
    }
   ],
   "source": [
    "import os\n",
    "path=\"/Users/elnazar/Documents/PP2/python\"\n",
    "allDirs = os.listdir(path)\n",
    "for item in allDirs:\n",
    "    if os.path.isdir(os.path.join(path,item)):\n",
    "        print(f\"only dir= {item}\")"
   ]
  },
  {
   "cell_type": "markdown",
   "id": "39ea8643-a55a-4ce8-b61a-507cd787e4c9",
   "metadata": {},
   "source": [
    "3.Проверка существования пути и извлечение имени файла и каталога"
   ]
  },
  {
   "cell_type": "code",
   "execution_count": 19,
   "id": "2faff971-fb5b-4e54-9b81-282e53d17459",
   "metadata": {},
   "outputs": [
    {
     "name": "stdout",
     "output_type": "stream",
     "text": [
      "only file= RegEx.ipynb\n"
     ]
    }
   ],
   "source": [
    "import os\n",
    "path=\"/Users/elnazar/Documents/PP2/python/5.lab\"\n",
    "allDirs = os.listdir(path)\n",
    "for item in allDirs:\n",
    "    if  os.path.isfile(os.path.join(path,item)):\n",
    "        print(f\"only file= {item}\")"
   ]
  },
  {
   "cell_type": "markdown",
   "id": "05956b89-b4ec-4d43-a292-7c166d439ec2",
   "metadata": {},
   "source": [
    "4. Подсчет строк в файле"
   ]
  },
  {
   "cell_type": "code",
   "execution_count": 22,
   "id": "d77dab5e-7b15-4f14-9ed3-704fbb8f1fce",
   "metadata": {},
   "outputs": [
    {
     "name": "stdout",
     "output_type": "stream",
     "text": [
      "Путь существует: /Users/elnazar/Documents/PP2/python/5.lab\n",
      "Читаемый: Да\n",
      "Записываемый: Да\n",
      "Исполняемый: Да\n"
     ]
    }
   ],
   "source": [
    "import os\n",
    "\n",
    "path = \"/Users/elnazar/Documents/PP2/python/5.lab\"\n",
    "\n",
    "\n",
    "if os.path.exists(path):\n",
    "    print(f\"Путь существует: {path}\")\n",
    "\n",
    "    print(f\"Читаемый: {'Да' if os.access(path, os.R_OK) else 'Нет'}\")\n",
    "    print(f\"Записываемый: {'Да' if os.access(path, os.W_OK) else 'Нет'}\")\n",
    "    print(f\"Исполняемый: {'Да' if os.access(path, os.X_OK) else 'Нет'}\")\n",
    "else:\n",
    "    print(f\"Путь не существует: {path}\")"
   ]
  },
  {
   "cell_type": "markdown",
   "id": "0a095935-f9f3-4429-a1bf-5b41c73259eb",
   "metadata": {},
   "source": [
    "5.Запись списка в файл"
   ]
  },
  {
   "cell_type": "code",
   "execution_count": 25,
   "id": "c394f97a-5a2f-493f-b061-9541ac7a6846",
   "metadata": {},
   "outputs": [
    {
     "name": "stdout",
     "output_type": "stream",
     "text": [
      "Путь существует: /Users/elnazar/Documents/PP2/python/5.lab\n",
      "Имя файла: 5.lab\n",
      "Папка: /Users/elnazar/Documents/PP2/python\n"
     ]
    }
   ],
   "source": [
    "import os\n",
    "\n",
    "path = \"/Users/elnazar/Documents/PP2/python/5.lab\" \n",
    "\n",
    "if os.path.exists(path):\n",
    "    print(f\"Путь существует: {path}\")\n",
    "\n",
    "   \n",
    "    filename = os.path.basename(path)\n",
    "    print(f\"Имя файла: {filename}\")\n",
    "\n",
    "   \n",
    "    directory = os.path.dirname(path)\n",
    "    print(f\"Папка: {directory}\")\n",
    "else:\n",
    "    print(\"Путь не существует.\")"
   ]
  },
  {
   "cell_type": "markdown",
   "id": "2d76a416-b388-4355-9129-2db70c316fd3",
   "metadata": {},
   "source": [
    "6.Создание файлов от A.txt до Z.txt"
   ]
  },
  {
   "cell_type": "code",
   "execution_count": 30,
   "id": "e06cba48-6f00-4fdf-9b96-db611004d0e0",
   "metadata": {},
   "outputs": [
    {
     "name": "stdout",
     "output_type": "stream",
     "text": [
      "Hello\n"
     ]
    }
   ],
   "source": [
    "\"\"\"file_names = [\"A.txt\", \"B.txt\", \"C.txt\", \"D.txt\", \"E.txt\", \"F.txt\", \"G.txt\", \n",
    "              \"H.txt\", \"I.txt\", \"J.txt\", \"K.txt\", \"L.txt\", \"M.txt\", \"N.txt\", \n",
    "              \"O.txt\", \"P.txt\", \"Q.txt\", \"R.txt\", \"S.txt\", \"T.txt\", \"U.txt\", \n",
    "              \"V.txt\", \"W.txt\", \"X.txt\", \"Y.txt\", \"Z.txt\"]\n",
    "\n",
    "for file_name in file_names:\n",
    "    with open(file_name, \"w\") as file:\n",
    "        file.write(f\"This is file {file_name}\\n\")\"\"\"\n",
    "print(\"Hello\")"
   ]
  },
  {
   "cell_type": "markdown",
   "id": "66b6fc6d-42a5-4dcd-a91e-86ad153126cc",
   "metadata": {},
   "source": [
    "7.Копирование содержимого файла"
   ]
  },
  {
   "cell_type": "code",
   "execution_count": 39,
   "id": "d4ac7944-29be-4117-b979-def5f6357441",
   "metadata": {},
   "outputs": [],
   "source": [
    "file_path=\"/Users/elnazar/Documents/PP2/python/5.lab/task4.txt\" \n",
    "file_copy=\"/Users/elnazar/Documents/PP2/python/5.lab/task5.txt\"\n",
    "with open(file_path,\"r\") as file:\n",
    "    content=file.read()\n",
    "    with open(file_copy,\"w\") as copy:\n",
    "        copy.write(content)"
   ]
  },
  {
   "cell_type": "markdown",
   "id": "9cabda09-a1c9-4f7a-b95e-d08ede3f3b01",
   "metadata": {},
   "source": [
    "8.Удаление файла с проверкой доступа"
   ]
  },
  {
   "cell_type": "code",
   "execution_count": 43,
   "id": "be38e99f-19f3-4f01-8ba2-9204691803b8",
   "metadata": {},
   "outputs": [
    {
     "name": "stdin",
     "output_type": "stream",
     "text": [
      "Введите путь к файлу:  /Users/elnazar/Documents/PP2/python/5.lab/task4.txt\n"
     ]
    },
    {
     "name": "stdout",
     "output_type": "stream",
     "text": [
      "Файл '/Users/elnazar/Documents/PP2/python/5.lab/task4.txt' успешно удалён.\n"
     ]
    }
   ],
   "source": [
    "import os\n",
    "\n",
    "file_path = input(\"Введите путь к файлу: \")\n",
    "\n",
    "if not os.path.exists(file_path):\n",
    "    print(f\"Файл '{file_path}' не существует.\")\n",
    "elif not os.access(file_path, os.W_OK):\n",
    "    print(f\"Нет доступа для удаления файла '{file_path}'.\")\n",
    "else:\n",
    "    os.remove(file_path)\n",
    "    print(f\"Файл '{file_path}' успешно удалён.\")"
   ]
  }
 ],
 "metadata": {
  "kernelspec": {
   "display_name": "Python [conda env:base] *",
   "language": "python",
   "name": "conda-base-py"
  },
  "language_info": {
   "codemirror_mode": {
    "name": "ipython",
    "version": 3
   },
   "file_extension": ".py",
   "mimetype": "text/x-python",
   "name": "python",
   "nbconvert_exporter": "python",
   "pygments_lexer": "ipython3",
   "version": "3.12.7"
  }
 },
 "nbformat": 4,
 "nbformat_minor": 5
}
