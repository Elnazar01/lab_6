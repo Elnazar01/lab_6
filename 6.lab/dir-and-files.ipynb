{
 "cells": [
  {
   "cell_type": "markdown",
   "id": "5b864230-5217-4b6f-9c59-e71b927584c6",
   "metadata": {},
   "source": [
    "1."
   ]
  },
  {
   "cell_type": "code",
   "execution_count": 53,
   "id": "58ce7684-95ab-4c9a-ae28-a29a0029096c",
   "metadata": {},
   "outputs": [],
   "source": [
    "def list_contents():\n",
    "    path = input(\"Enter the path: \")\n",
    "    if not os.path.exists(path):\n",
    "        print(\"The specified path does not exist.\")\n",
    "        return\n",
    "    \n",
    "    print(\"Directories:\")\n",
    "    for item in os.listdir(path):\n",
    "        if os.path.isdir(os.path.join(path, item)):\n",
    "            print(item)\n",
    "    \n",
    "    print(\"\\nFiles:\")\n",
    "    for item in os.listdir(path):\n",
    "        if os.path.isfile(os.path.join(path, item)):\n",
    "            print(item)\n",
    "    \n",
    "    print(\"\\nAll Directories and Files:\")\n",
    "    for item in os.listdir(path):\n",
    "        print(item)"
   ]
  },
  {
   "cell_type": "markdown",
   "id": "b5c17d56-ecc0-494c-9a33-77776d52a3eb",
   "metadata": {},
   "source": [
    "2."
   ]
  },
  {
   "cell_type": "code",
   "execution_count": 21,
   "id": "012823f8-1e60-4dcb-90ee-15570026ab8f",
   "metadata": {},
   "outputs": [],
   "source": [
    "def check_path_access(path):\n",
    "    print(f\"Checking access for: {path}\")\n",
    "    \n",
    "    if os.path.exists(path):\n",
    "        print(\"Path exists.\")\n",
    "    else:\n",
    "        print(\"Path does not exist.\")\n",
    "        return\n",
    "    \n",
    "    if os.access(path, os.R_OK):\n",
    "        print(\"Path is readable.\")\n",
    "    else:\n",
    "        print(\"Path is not readable.\")\n",
    "    \n",
    "    if os.access(path, os.W_OK):\n",
    "        print(\"Path is writable.\")\n",
    "    else:\n",
    "        print(\"Path is not writable.\")\n",
    "    \n",
    "    if os.access(path, os.X_OK):\n",
    "        print(\"Path is executable.\")\n",
    "    else:\n",
    "        print(\"Path is not executable.\")"
   ]
  },
  {
   "cell_type": "markdown",
   "id": "39ea8643-a55a-4ce8-b61a-507cd787e4c9",
   "metadata": {},
   "source": [
    "3."
   ]
  },
  {
   "cell_type": "code",
   "execution_count": 24,
   "id": "2faff971-fb5b-4e54-9b81-282e53d17459",
   "metadata": {},
   "outputs": [],
   "source": [
    "def test_path(path):\n",
    "    if os.path.exists(path):\n",
    "        print(f\"Path exists: {path}\")\n",
    "        print(f\"Directory: {os.path.dirname(path)}\")\n",
    "        print(f\"Filename: {os.path.basename(path)}\")\n",
    "    else:\n",
    "        print(\"Path does not exist.\")"
   ]
  },
  {
   "cell_type": "markdown",
   "id": "05956b89-b4ec-4d43-a292-7c166d439ec2",
   "metadata": {},
   "source": [
    "4."
   ]
  },
  {
   "cell_type": "code",
   "execution_count": 27,
   "id": "d77dab5e-7b15-4f14-9ed3-704fbb8f1fce",
   "metadata": {},
   "outputs": [],
   "source": [
    "def count_lines_in_file(file_path):\n",
    "    try:\n",
    "        with open(file_path, 'r') as file:\n",
    "            print(f\"Number of lines: {sum(1 for _ in file)}\")\n",
    "    except FileNotFoundError:\n",
    "        print(\"File not found.\")"
   ]
  },
  {
   "cell_type": "markdown",
   "id": "0a095935-f9f3-4429-a1bf-5b41c73259eb",
   "metadata": {},
   "source": [
    "5."
   ]
  },
  {
   "cell_type": "code",
   "execution_count": 30,
   "id": "c394f97a-5a2f-493f-b061-9541ac7a6846",
   "metadata": {},
   "outputs": [],
   "source": [
    "def write_list_to_file(file_path, data_list):\n",
    "    with open(file_path, 'w') as file:\n",
    "        for item in data_list:\n",
    "            file.write(f\"{item}\\n\")\n",
    "    print(\"List written to file.\")"
   ]
  },
  {
   "cell_type": "markdown",
   "id": "2d76a416-b388-4355-9129-2db70c316fd3",
   "metadata": {},
   "source": [
    "6."
   ]
  },
  {
   "cell_type": "code",
   "execution_count": 33,
   "id": "e06cba48-6f00-4fdf-9b96-db611004d0e0",
   "metadata": {},
   "outputs": [],
   "source": [
    "def generate_text_files():\n",
    "    for letter in range(65, 91):\n",
    "        with open(f\"{chr(letter)}.txt\", 'w') as file:\n",
    "            file.write(f\"This is file {chr(letter)}.txt\\n\")\n",
    "    print(\"Generated files A.txt to Z.txt\")"
   ]
  },
  {
   "cell_type": "markdown",
   "id": "66b6fc6d-42a5-4dcd-a91e-86ad153126cc",
   "metadata": {},
   "source": [
    "7."
   ]
  },
  {
   "cell_type": "code",
   "execution_count": 36,
   "id": "d4ac7944-29be-4117-b979-def5f6357441",
   "metadata": {},
   "outputs": [],
   "source": [
    "def copy_file(source, destination):\n",
    "    try:\n",
    "        with open(source, 'r') as src, open(destination, 'w') as dest:\n",
    "            dest.write(src.read())\n",
    "        print(\"File copied successfully.\")\n",
    "    except FileNotFoundError:\n",
    "        print(\"Source file not found.\")"
   ]
  },
  {
   "cell_type": "markdown",
   "id": "9cabda09-a1c9-4f7a-b95e-d08ede3f3b01",
   "metadata": {},
   "source": [
    "8."
   ]
  },
  {
   "cell_type": "code",
   "execution_count": 55,
   "id": "be38e99f-19f3-4f01-8ba2-9204691803b8",
   "metadata": {},
   "outputs": [],
   "source": [
    "def delete_file(file_path):\n",
    "    if os.path.exists(file_path) and os.access(file_path, os.W_OK):\n",
    "        os.remove(file_path)\n",
    "        print(\"File deleted.\")\n",
    "    else:\n",
    "        print(\"File does not exist or is not writable.\")"
   ]
  }
 ],
 "metadata": {
  "kernelspec": {
   "display_name": "Python [conda env:base] *",
   "language": "python",
   "name": "conda-base-py"
  },
  "language_info": {
   "codemirror_mode": {
    "name": "ipython",
    "version": 3
   },
   "file_extension": ".py",
   "mimetype": "text/x-python",
   "name": "python",
   "nbconvert_exporter": "python",
   "pygments_lexer": "ipython3",
   "version": "3.12.7"
  }
 },
 "nbformat": 4,
 "nbformat_minor": 5
}
