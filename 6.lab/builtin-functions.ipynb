{
 "cells": [
  {
   "cell_type": "markdown",
   "id": "0bad8e8d-5b40-406c-80d0-80fb784ac40d",
   "metadata": {},
   "source": [
    "1."
   ]
  },
  {
   "cell_type": "code",
   "execution_count": 3,
   "id": "f732b5de-5fb3-4360-9819-d1d166a05e87",
   "metadata": {},
   "outputs": [
    {
     "name": "stdout",
     "output_type": "stream",
     "text": [
      "Product of all numbers: 120\n"
     ]
    }
   ],
   "source": [
    "import math\n",
    "\n",
    "numbers = [2, 3, 4, 5]  # Example list\n",
    "result = math.prod(numbers)\n",
    "\n",
    "print(\"Product of all numbers:\", result)"
   ]
  },
  {
   "cell_type": "markdown",
   "id": "b42fd83a-8be8-4c58-b7f2-8ae8d37910ca",
   "metadata": {},
   "source": [
    "2."
   ]
  },
  {
   "cell_type": "code",
   "execution_count": 6,
   "id": "d0d43d7c-5cbd-4fdb-8f79-ad6cfceb89e4",
   "metadata": {},
   "outputs": [
    {
     "name": "stdin",
     "output_type": "stream",
     "text": [
      "Enter a string:  Hello Elnazar\n"
     ]
    },
    {
     "name": "stdout",
     "output_type": "stream",
     "text": [
      "Uppercase letters: 2\n",
      "Lowercase letters: 10\n"
     ]
    }
   ],
   "source": [
    "def count_case(s):\n",
    "    upper_count = sum(1 for char in s if char.isupper())\n",
    "    lower_count = sum(1 for char in s if char.islower())\n",
    "    \n",
    "    print(\"Uppercase letters:\", upper_count)\n",
    "    print(\"Lowercase letters:\", lower_count)\n",
    "\n",
    "# Example usage\n",
    "text = input(\"Enter a string: \")\n",
    "count_case(text)"
   ]
  },
  {
   "cell_type": "markdown",
   "id": "b4bf0916-a1a2-421c-9cfb-984a5995a65a",
   "metadata": {},
   "source": [
    "3."
   ]
  },
  {
   "cell_type": "code",
   "execution_count": 9,
   "id": "4bbf0b69-fb63-4c66-84eb-1d9cbad9b3e5",
   "metadata": {},
   "outputs": [
    {
     "name": "stdin",
     "output_type": "stream",
     "text": [
      "Enter a string:  madam\n"
     ]
    },
    {
     "name": "stdout",
     "output_type": "stream",
     "text": [
      "The string is a palindrome.\n"
     ]
    }
   ],
   "source": [
    "def is_palindrome(s):\n",
    "    return s == s[::-1]  # Reverse the string and compare\n",
    "\n",
    "# Example usage\n",
    "text = input(\"Enter a string: \")\n",
    "if is_palindrome(text):\n",
    "    print(\"The string is a palindrome.\")\n",
    "else:\n",
    "    print(\"The string is not a palindrome.\")"
   ]
  },
  {
   "cell_type": "markdown",
   "id": "65e81178-e8fa-477b-bd93-d59d5329e620",
   "metadata": {},
   "source": [
    "4."
   ]
  },
  {
   "cell_type": "code",
   "execution_count": 12,
   "id": "a77a0db3-951a-4bb5-846e-2266fdad8e2c",
   "metadata": {},
   "outputs": [
    {
     "name": "stdin",
     "output_type": "stream",
     "text": [
      "Enter a number:  25100\n",
      "Enter delay in milliseconds:  2123\n"
     ]
    },
    {
     "name": "stdout",
     "output_type": "stream",
     "text": [
      "Square root of 25100.0 after 2123 milliseconds is 158.42979517754858\n"
     ]
    }
   ],
   "source": [
    "import math\n",
    "import time\n",
    "\n",
    "# Taking user input\n",
    "num = float(input(\"Enter a number: \"))\n",
    "delay = int(input(\"Enter delay in milliseconds: \"))\n",
    "\n",
    "# Converting milliseconds to seconds\n",
    "time.sleep(delay / 1000)\n",
    "\n",
    "# Calculating square root\n",
    "result = math.sqrt(num)\n",
    "\n",
    "# Printing the result\n",
    "print(f\"Square root of {num} after {delay} milliseconds is {result}\")"
   ]
  },
  {
   "cell_type": "markdown",
   "id": "7057b205-1d9d-4039-8b21-83873d8d3bb9",
   "metadata": {},
   "source": [
    "5."
   ]
  },
  {
   "cell_type": "code",
   "execution_count": 15,
   "id": "b7b21437-6deb-4d79-b07b-78713a8ce963",
   "metadata": {},
   "outputs": [
    {
     "name": "stdout",
     "output_type": "stream",
     "text": [
      "True\n",
      "False\n"
     ]
    }
   ],
   "source": [
    "def all_elements_true(t):\n",
    "    return all(t)\n",
    "\n",
    "# Example usage\n",
    "tup = (True, 1, \"Hello\", 5)  # All values are truthy\n",
    "print(all_elements_true(tup))  # Output: True\n",
    "\n",
    "tup2 = (True, 0, \"Hello\")  # 0 is falsy\n",
    "print(all_elements_true(tup2))  # Output: False"
   ]
  }
 ],
 "metadata": {
  "kernelspec": {
   "display_name": "Python [conda env:base] *",
   "language": "python",
   "name": "conda-base-py"
  },
  "language_info": {
   "codemirror_mode": {
    "name": "ipython",
    "version": 3
   },
   "file_extension": ".py",
   "mimetype": "text/x-python",
   "name": "python",
   "nbconvert_exporter": "python",
   "pygments_lexer": "ipython3",
   "version": "3.12.7"
  }
 },
 "nbformat": 4,
 "nbformat_minor": 5
}
